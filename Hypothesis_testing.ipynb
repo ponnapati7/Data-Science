{
  "nbformat": 4,
  "nbformat_minor": 0,
  "metadata": {
    "colab": {
      "provenance": []
    },
    "kernelspec": {
      "name": "python3",
      "display_name": "Python 3"
    },
    "language_info": {
      "name": "python"
    }
  },
  "cells": [
    {
      "cell_type": "code",
      "execution_count": null,
      "metadata": {
        "colab": {
          "base_uri": "https://localhost:8080/"
        },
        "id": "9NCw76WL59S-",
        "outputId": "8964a555-036a-4f84-9ae3-46b78ae8f6d1"
      },
      "outputs": [
        {
          "output_type": "stream",
          "name": "stdout",
          "text": [
            "Test Statistic (t): -190.0\n",
            "Critical Value: ±2.0638985616280205\n",
            "Reject null hypothesis\n",
            "There is strong evidence to support the claim that the weekly operating costs are higher than the model suggests.\n"
          ]
        }
      ],
      "source": [
        "import math\n",
        "\n",
        "# Given data\n",
        "sample_mean = 3050\n",
        "theoretical_mean = 4000\n",
        "sigma = 25\n",
        "n = 25\n",
        "\n",
        "# Calculate the test statistic\n",
        "standard_error = sigma / math.sqrt(n)\n",
        "t = (sample_mean - theoretical_mean) / standard_error\n",
        "\n",
        "print(f\"Test Statistic (t): {t}\")\n",
        "\n",
        "# Calculate critical value for alpha = 0.05 (two-tailed test)\n",
        "from scipy.stats import t as t_dist\n",
        "\n",
        "alpha = 0.05\n",
        "degrees_freedom = n - 1\n",
        "critical_value = t_dist.ppf(1 - alpha/2, degrees_freedom)\n",
        "\n",
        "print(f\"Critical Value: ±{critical_value}\")\n",
        "\n",
        "# Decision\n",
        "if abs(t) > critical_value:\n",
        "    print(\"Reject null hypothesis\")\n",
        "else:\n",
        "    print(\"Fail to reject null hypothesis\")\n",
        "\n",
        "# Conclusion based on the decision\n",
        "if abs(t) > critical_value:\n",
        "    print(\"There is strong evidence to support the claim that the weekly operating costs are higher than the model suggests.\")\n",
        "else:\n",
        "    print(\"There is not enough evidence to conclude that the weekly operating costs are higher than the model suggests.\")\n"
      ]
    }
  ]
}