{
  "nbformat": 4,
  "nbformat_minor": 0,
  "metadata": {
    "colab": {
      "provenance": []
    },
    "kernelspec": {
      "name": "python3",
      "display_name": "Python 3"
    },
    "language_info": {
      "name": "python"
    }
  },
  "cells": [
    {
      "cell_type": "code",
      "execution_count": null,
      "metadata": {
        "colab": {
          "base_uri": "https://localhost:8080/"
        },
        "id": "Z-4oW-C3jZN0",
        "outputId": "0ab18c85-fdac-48f3-8c53-d3868410bf6e"
      },
      "outputs": [
        {
          "output_type": "stream",
          "name": "stdout",
          "text": [
            "Sample Mean: 1.2386666666666666\n",
            "Sample Standard Deviation: 0.19316412956959936\n",
            "t-Critical Value: 2.976842734370834\n",
            "Margin of Error: 0.14846932822817596\n",
            "99% Confidence Interval: (1.0901973384384906, 1.3871359948948425)\n"
          ]
        }
      ],
      "source": [
        "import numpy as np\n",
        "import scipy.stats as stats\n",
        "\n",
        "data = np.array([1.13, 1.55, 1.43, 0.92, 1.25, 1.36, 1.32, 0.85, 1.07, 1.48, 1.20, 1.33, 1.18, 1.22, 1.29])\n",
        "\n",
        "# Sample statistics\n",
        "n = len(data)\n",
        "sample_mean = np.mean(data)\n",
        "sample_std = np.std(data, ddof=1)\n",
        "\n",
        "# Confidence level\n",
        "confidence_level = 0.99\n",
        "alpha = 1 - confidence_level\n",
        "degrees_of_freedom = n - 1\n",
        "\n",
        "# t-critical value\n",
        "t_critical = stats.t.ppf(1 - alpha / 2, degrees_of_freedom)\n",
        "\n",
        "# Margin of error\n",
        "margin_of_error = t_critical * (sample_std / np.sqrt(n))\n",
        "\n",
        "# Confidence interval\n",
        "ci_lower = sample_mean - margin_of_error\n",
        "ci_upper = sample_mean + margin_of_error\n",
        "\n",
        "# Display results\n",
        "print(f\"Sample Mean: {sample_mean}\")\n",
        "print(f\"Sample Standard Deviation: {sample_std}\")\n",
        "print(f\"t-Critical Value: {t_critical}\")\n",
        "print(f\"Margin of Error: {margin_of_error}\")\n",
        "print(f\"99% Confidence Interval: ({ci_lower}, {ci_upper})\")\n"
      ]
    }
  ]
}