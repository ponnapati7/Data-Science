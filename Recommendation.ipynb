{
  "nbformat": 4,
  "nbformat_minor": 0,
  "metadata": {
    "colab": {
      "provenance": []
    },
    "kernelspec": {
      "name": "python3",
      "display_name": "Python 3"
    },
    "language_info": {
      "name": "python"
    }
  },
  "cells": [
    {
      "cell_type": "code",
      "source": [
        "import pandas as pd\n",
        "from sklearn.feature_extraction.text import TfidfVectorizer\n",
        "from sklearn.metrics.pairwise import cosine_similarity\n",
        "from sklearn.preprocessing import MinMaxScaler\n",
        "\n",
        "# Load the dataset\n",
        "data_path = \"/content/anime.csv\"\n",
        "try:\n",
        "    df = pd.read_csv(data_path)\n",
        "except FileNotFoundError:\n",
        "    print(\"Dataset not found. Please ensure the file path is correct.\")\n",
        "    exit()\n",
        "\n",
        "# Data Preprocessing\n",
        "df.fillna({'genre': 'Unknown', 'rating': 0, 'episodes': 'Unknown'}, inplace=True)\n",
        "# Combine features for similarity calculation\n",
        "df['combined_features'] = df['genre'] + \" \" + df['type'] + \" \" + df['episodes'].astype(str)\n",
        "# Ensure no missing or NaN values in combined_features\n",
        "df['combined_features'].fillna('Unknown', inplace=True)\n",
        "# Normalize the rating feature\n",
        "scaler = MinMaxScaler()\n",
        "df['normalized_rating'] = scaler.fit_transform(df[['rating']])\n",
        "# Cosine Similarity\n",
        "tfidf = TfidfVectorizer(stop_words='english')\n",
        "# Fit the TF-IDF vectorizer on the combined features\n",
        "try:\n",
        "    tfidf_matrix = tfidf.fit_transform(df['combined_features'])\n",
        "except ValueError as e:\n",
        "    print(f\"Error in TF-IDF vectorization: {e}\")\n",
        "    exit()\n",
        "# Compute cosine similarity matrix\n",
        "cosine_sim = cosine_similarity(tfidf_matrix, tfidf_matrix)\n",
        "# Function to recommend anime based on cosine similarity\n",
        "def recommend_anime(anime_title, top_n=5):\n",
        "    # Check if the anime title exists in the dataset\n",
        "    if anime_title not in df['name'].values:\n",
        "        print(f\"Anime '{anime_title}' not found in the dataset.\")\n",
        "        return pd.DataFrame()\n",
        "\n",
        "    # Get the index of the anime\n",
        "    idx = df[df['name'] == anime_title].index[0]\n",
        "\n",
        "    # Compute similarity scores\n",
        "    sim_scores = list(enumerate(cosine_sim[idx]))\n",
        "    sim_scores = sorted(sim_scores, key=lambda x: x[1], reverse=True)\n",
        "\n",
        "    # Get indices of top-N most similar anime (excluding the input anime)\n",
        "    sim_scores = sim_scores[1:top_n + 1]\n",
        "    anime_indices = [i[0] for i in sim_scores]\n",
        "\n",
        "    # Return the top-N recommendations\n",
        "    return df.iloc[anime_indices][['name', 'genre', 'rating']]\n",
        "\n",
        "# Example\n",
        "print(\"\\nRecommendations for 'Naruto':\")\n",
        "recommendations = recommend_anime('Naruto', top_n=5)\n",
        "print(recommendations)\n"
      ],
      "metadata": {
        "colab": {
          "base_uri": "https://localhost:8080/"
        },
        "id": "3BUDxhVW8kRL",
        "outputId": "faffb309-cf32-4bf6-ff43-9abfc987f0f1"
      },
      "execution_count": null,
      "outputs": [
        {
          "output_type": "stream",
          "name": "stderr",
          "text": [
            "<ipython-input-1-a1fdcd0253a1>:23: FutureWarning: A value is trying to be set on a copy of a DataFrame or Series through chained assignment using an inplace method.\n",
            "The behavior will change in pandas 3.0. This inplace method will never work because the intermediate object on which we are setting values always behaves as a copy.\n",
            "\n",
            "For example, when doing 'df[col].method(value, inplace=True)', try using 'df.method({col: value}, inplace=True)' or df[col] = df[col].method(value) instead, to perform the operation inplace on the original object.\n",
            "\n",
            "\n",
            "  df['combined_features'].fillna('Unknown', inplace=True)\n"
          ]
        },
        {
          "output_type": "stream",
          "name": "stdout",
          "text": [
            "\n",
            "Recommendations for 'Naruto':\n",
            "                                                   name  \\\n",
            "1343                                        Naruto x UT   \n",
            "486                            Boruto: Naruto the Movie   \n",
            "1472        Naruto: Shippuuden Movie 4 - The Lost Tower   \n",
            "1573  Naruto: Shippuuden Movie 3 - Hi no Ishi wo Tsu...   \n",
            "2997  Naruto Soyokazeden Movie: Naruto to Mashin to ...   \n",
            "\n",
            "                                                  genre  rating  \n",
            "1343  Action, Comedy, Martial Arts, Shounen, Super P...    7.58  \n",
            "486   Action, Comedy, Martial Arts, Shounen, Super P...    8.03  \n",
            "1472  Action, Comedy, Martial Arts, Shounen, Super P...    7.53  \n",
            "1573  Action, Comedy, Martial Arts, Shounen, Super P...    7.50  \n",
            "2997  Action, Comedy, Martial Arts, Shounen, Super P...    7.11  \n"
          ]
        }
      ]
    }
  ]
}